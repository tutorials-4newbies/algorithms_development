{
 "cells": [
  {
   "cell_type": "markdown",
   "metadata": {},
   "source": [
    "## list algorithms 2\n"
   ]
  },
  {
   "cell_type": "code",
   "execution_count": null,
   "metadata": {},
   "outputs": [],
   "source": [
    "def merge_lists(a_sorted_list_1: list, a_sorted_list_2:list)-> list:\n",
    "    \"\"\"\n",
    "    Gets two sorted lists, returns a sorted list\n",
    "    \"\"\"\n",
    "    pass\n",
    "\n",
    "# What's the problem with the immediate answer? (what is the immediate answer)\n",
    "# Can we think of an algorithemic \" divide conquer\" solution? \n",
    "# What is the smallest step possible here"
   ]
  },
  {
   "cell_type": "markdown",
   "metadata": {},
   "source": [
    "### Lets simulate \n",
    "\n"
   ]
  },
  {
   "cell_type": "code",
   "execution_count": 6,
   "metadata": {},
   "outputs": [],
   "source": [
    "a = [1, 3, 5, 15]\n",
    "b  = [2, 3, 4, 18]"
   ]
  },
  {
   "cell_type": "code",
   "execution_count": 8,
   "metadata": {},
   "outputs": [],
   "source": [
    "def merge_lists(a_sorted_list_1: list, a_sorted_list_2:list)-> list:\n",
    "    \"\"\"\n",
    "    Gets two sorted lists, returns a sorted list\n",
    "    \"\"\"\n",
    "    l_1_pos = 0\n",
    "    l_2_pos = 0\n",
    "    pass\n",
    "#     while True:\n",
    "#         pass\n"
   ]
  },
  {
   "cell_type": "code",
   "execution_count": 9,
   "metadata": {},
   "outputs": [
    {
     "ename": "AssertionError",
     "evalue": "",
     "output_type": "error",
     "traceback": [
      "\u001b[0;31m---------------------------------------------------------------------------\u001b[0m",
      "\u001b[0;31mAssertionError\u001b[0m                            Traceback (most recent call last)",
      "\u001b[0;32m<ipython-input-9-a47fbf3c9751>\u001b[0m in \u001b[0;36m<module>\u001b[0;34m\u001b[0m\n\u001b[1;32m      1\u001b[0m \u001b[0mresult\u001b[0m \u001b[0;34m=\u001b[0m \u001b[0mmerge_lists\u001b[0m\u001b[0;34m(\u001b[0m\u001b[0ma\u001b[0m\u001b[0;34m,\u001b[0m \u001b[0mb\u001b[0m\u001b[0;34m)\u001b[0m\u001b[0;34m\u001b[0m\u001b[0;34m\u001b[0m\u001b[0m\n\u001b[0;32m----> 2\u001b[0;31m \u001b[0;32massert\u001b[0m \u001b[0mresult\u001b[0m \u001b[0;34m==\u001b[0m \u001b[0;34m[\u001b[0m\u001b[0;36m1\u001b[0m\u001b[0;34m,\u001b[0m \u001b[0;36m2\u001b[0m\u001b[0;34m,\u001b[0m \u001b[0;36m3\u001b[0m\u001b[0;34m,\u001b[0m\u001b[0;36m3\u001b[0m\u001b[0;34m,\u001b[0m\u001b[0;36m4\u001b[0m\u001b[0;34m,\u001b[0m\u001b[0;36m5\u001b[0m\u001b[0;34m,\u001b[0m\u001b[0;36m15\u001b[0m\u001b[0;34m,\u001b[0m\u001b[0;36m18\u001b[0m\u001b[0;34m]\u001b[0m\u001b[0;34m\u001b[0m\u001b[0;34m\u001b[0m\u001b[0m\n\u001b[0m",
      "\u001b[0;31mAssertionError\u001b[0m: "
     ]
    }
   ],
   "source": [
    "result = merge_lists(a, b)\n",
    "assert result == [1, 2, 3,3,4,5,15,18]"
   ]
  },
  {
   "cell_type": "code",
   "execution_count": 5,
   "metadata": {},
   "outputs": [
    {
     "name": "stdout",
     "output_type": "stream",
     "text": [
      "[1, 3, 5, 15] [2, 3, 4, 18]\n",
      "[3, 5, 15] [2, 3, 4, 18]\n",
      "[3, 5, 15] [3, 4, 18]\n",
      "[3, 5, 15] [4, 18]\n",
      "[5, 15] [4, 18]\n",
      "[5, 15] [18]\n",
      "[15] [18]\n",
      "[] [18]\n"
     ]
    },
    {
     "data": {
      "text/plain": [
       "[1, 2, 3, 3, 4, 5, 15, 18]"
      ]
     },
     "execution_count": 5,
     "metadata": {},
     "output_type": "execute_result"
    }
   ],
   "source": [
    "def merge_lists(a_sorted_list_1: list, a_sorted_list_2:list)-> list:\n",
    "    print(a_sorted_list_1, a_sorted_list_2)\n",
    "    if len(a_sorted_list_1) and len(a_sorted_list_2):\n",
    "        if a_sorted_list_1[0] < a_sorted_list_2[0]:\n",
    "            smallest_item = a_sorted_list_1.pop(0)\n",
    "        else:\n",
    "            smallest_item = a_sorted_list_2.pop(0)\n",
    "    \n",
    "        return [smallest_item] + merge_lists(a_sorted_list_1, a_sorted_list_2)\n",
    "    else:\n",
    "        return a_sorted_list_1 + a_sorted_list_2\n",
    "a = [1, 3, 5, 15]\n",
    "b  = [2, 3, 4, 18]\n",
    "\n",
    "merge_lists(a, b)"
   ]
  },
  {
   "cell_type": "code",
   "execution_count": null,
   "metadata": {},
   "outputs": [],
   "source": [
    "# Throwing a recursive solution to the mix?"
   ]
  },
  {
   "cell_type": "markdown",
   "metadata": {},
   "source": [
    "## Merging sorted lists as a general problem\n",
    "\n",
    "How can we adapt this algo to \n",
    "\n",
    "* Return only those items that are present in both lists.\n",
    "\n",
    "* Return only those items that are present in the second list, but not in the first."
   ]
  }
 ],
 "metadata": {
  "kernelspec": {
   "display_name": "Python 3",
   "language": "python",
   "name": "python3"
  },
  "language_info": {
   "codemirror_mode": {
    "name": "ipython",
    "version": 3
   },
   "file_extension": ".py",
   "mimetype": "text/x-python",
   "name": "python",
   "nbconvert_exporter": "python",
   "pygments_lexer": "ipython3",
   "version": "3.8.1"
  }
 },
 "nbformat": 4,
 "nbformat_minor": 4
}
