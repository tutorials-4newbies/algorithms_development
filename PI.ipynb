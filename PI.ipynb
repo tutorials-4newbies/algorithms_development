{
 "cells": [
  {
   "cell_type": "markdown",
   "metadata": {},
   "source": [
    "# It's PI day!\n",
    "\n",
    "## How high can you go with PI\n",
    "\n",
    "How to calculate PI? a common way is the Leibniz’s formula\n",
    "\n",
    "![Leibniz formula](./imgs/Leibniz_formula.jpg)\n",
    "\n",
    "OR if we multiple everything by 4\n",
    "\n",
    "![Leibniz formula](./imgs/leibnitz_formula_2.png)"
   ]
  },
  {
   "cell_type": "code",
   "execution_count": 5,
   "metadata": {},
   "outputs": [
    {
     "data": {
      "text/plain": [
       "3.141592653589793"
      ]
     },
     "execution_count": 5,
     "metadata": {},
     "output_type": "execute_result"
    }
   ],
   "source": [
    "import math\n",
    "math.pi"
   ]
  },
  {
   "cell_type": "code",
   "execution_count": 11,
   "metadata": {},
   "outputs": [
    {
     "name": "stdout",
     "output_type": "stream",
     "text": [
      "3.1415925535897915\n"
     ]
    }
   ],
   "source": [
    "denominator =  1\n",
    "pi = 0\n",
    "import operator\n",
    "\n",
    "for i in range(10000000):\n",
    "    \n",
    "    if  i % 2 == 0:\n",
    "        op = operator.add\n",
    "    else:\n",
    "        op = operator.sub\n",
    "        \n",
    "    pi = op(pi, 4/denominator)\n",
    "    denominator = denominator + 2\n",
    "print(pi)\n",
    "    "
   ]
  }
 ],
 "metadata": {
  "kernelspec": {
   "display_name": "Python 3",
   "language": "python",
   "name": "python3"
  },
  "language_info": {
   "codemirror_mode": {
    "name": "ipython",
    "version": 3
   },
   "file_extension": ".py",
   "mimetype": "text/x-python",
   "name": "python",
   "nbconvert_exporter": "python",
   "pygments_lexer": "ipython3",
   "version": "3.8.1"
  }
 },
 "nbformat": 4,
 "nbformat_minor": 4
}
