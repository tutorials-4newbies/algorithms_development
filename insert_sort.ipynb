{
 "cells": [
  {
   "cell_type": "markdown",
   "metadata": {},
   "source": [
    "# Sorting\n",
    "\n",
    "## Insert sort\n",
    "\n",
    "* Last time we've talked about selection sort.\n",
    "\n",
    "* Let's see your results..\n",
    "\n",
    "* Let's explore some more sorting algo"
   ]
  },
  {
   "cell_type": "markdown",
   "metadata": {},
   "source": [
    "Let's use this sorting game example from khan academy\n",
    "\n",
    "The [original](https://www.khanacademy.org/computing/computer-science/algorithms/insertion-sort/a/insertion-sort)\n",
    "\n"
   ]
  },
  {
   "cell_type": "code",
   "execution_count": 1,
   "metadata": {},
   "outputs": [
    {
     "data": {
      "text/html": [
       "\n",
       "        <iframe\n",
       "            width=\"600\"\n",
       "            height=\"300\"\n",
       "            src=\"https://www.khanacademy.org/computer-programming/program/5008603698429952/embedded?embed=yes&author=no&editor=no&width=688&buttons=no&settings=%7B%7D\"\n",
       "            frameborder=\"0\"\n",
       "            allowfullscreen\n",
       "        ></iframe>\n",
       "        "
      ],
      "text/plain": [
       "<IPython.lib.display.IFrame at 0x7fd6bc3714f0>"
      ]
     },
     "execution_count": 1,
     "metadata": {},
     "output_type": "execute_result"
    }
   ],
   "source": [
    "import IPython\n",
    "src = \"https://www.khanacademy.org/computer-programming/program/5008603698429952/embedded?embed=yes&author=no&editor=no&width=688&buttons=no&settings=%7B%7D\"\n",
    "IPython.display.IFrame(src, 600, 300)"
   ]
  },
  {
   "cell_type": "markdown",
   "metadata": {},
   "source": [
    "## Breaking down the Algo to steps\n",
    "*  Insert\n",
    "*  insertion loop"
   ]
  },
  {
   "cell_type": "markdown",
   "metadata": {},
   "source": [
    "![insertion sort diagram](./imgs/Insertion-sort-1-9.png)\n",
    "\n",
    "Lets [try this](https://www.101computing.net/bubble-sort-vs-insertion-sort/)"
   ]
  },
  {
   "cell_type": "code",
   "execution_count": null,
   "metadata": {},
   "outputs": [],
   "source": []
  },
  {
   "cell_type": "code",
   "execution_count": null,
   "metadata": {},
   "outputs": [],
   "source": [
    "# Implementing insert\n",
    "\n",
    "def insert(a_list:list, right_index:int, value_to_insert):\n",
    "    \"\"\"\n",
    "    Don't forget to handle - value to insert is bigger then any in the array\n",
    "    Value to insert is sm\n",
    "    \"\"\"\n",
    "    pass\n",
    "\n",
    "original= [1, 3, 5,11, 7, 9]\n",
    "\n",
    "new_list = insert(original, right_index=2, value_to_insert=2)\n",
    "assert new_list ==[1, 2, 3, 5,11, 7, 9]"
   ]
  },
  {
   "cell_type": "code",
   "execution_count": null,
   "metadata": {},
   "outputs": [],
   "source": [
    "# Implementing insertion sort\n",
    "IPython.display.YouTubeVideo(\"https://www.youtube.com/watch?v=ROalU379l3U\")"
   ]
  },
  {
   "cell_type": "code",
   "execution_count": null,
   "metadata": {},
   "outputs": [],
   "source": [
    "def insertion_sort(original_list:list)->list:\n",
    "    pass\n",
    "\n",
    "assert insertion_sort([1, 7, 3, 9, 16]), [1,3,7,9, 16]"
   ]
  },
  {
   "cell_type": "code",
   "execution_count": null,
   "metadata": {},
   "outputs": [],
   "source": [
    "# Discussion: what is the O time complexity for this kind of function\n",
    "# What happens in the worst case? in the best case?"
   ]
  },
  {
   "cell_type": "code",
   "execution_count": null,
   "metadata": {},
   "outputs": [],
   "source": [
    "#Bonus\n",
    "\n",
    "IPython.display.YouTubeVideo(\"https://www.youtube.com/watch?v=kPRA0W1kECg\")    "
   ]
  }
 ],
 "metadata": {
  "kernelspec": {
   "display_name": "Python 3",
   "language": "python",
   "name": "python3"
  },
  "language_info": {
   "codemirror_mode": {
    "name": "ipython",
    "version": 3
   },
   "file_extension": ".py",
   "mimetype": "text/x-python",
   "name": "python",
   "nbconvert_exporter": "python",
   "pygments_lexer": "ipython3",
   "version": "3.8.1"
  }
 },
 "nbformat": 4,
 "nbformat_minor": 4
}
