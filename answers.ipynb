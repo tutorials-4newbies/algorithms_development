{
 "cells": [
  {
   "cell_type": "code",
   "execution_count": null,
   "metadata": {},
   "outputs": [],
   "source": [
    "def search_linear(sequence, target):\n",
    "    \"\"\" Find and return the index of target in sequence sequence \"\"\"\n",
    "    for (i, v) in enumerate(sequence):\n",
    "       if v == target:\n",
    "           return i\n",
    "    return -1"
   ]
  },
  {
   "cell_type": "code",
   "execution_count": 1,
   "metadata": {},
   "outputs": [],
   "source": [
    "def find_unknown_words(vocab, words):\n",
    "    \"\"\" Return a list of words in wds that do not occur in vocab \"\"\"\n",
    "    result = []\n",
    "    for w in words:\n",
    "        if (search_linear(vocab, w) < 0):\n",
    "            result.append(w)\n",
    "    return result"
   ]
  },
  {
   "cell_type": "code",
   "execution_count": null,
   "metadata": {},
   "outputs": [],
   "source": [
    "def pythonic_find_unknown_words(vocab, words):\n",
    "    \"\"\" Return a list of words in wds that do not occur in vocab \"\"\"\n",
    "    result = []\n",
    "    for w in words:\n",
    "        if w not in vocab:\n",
    "            result.append(w)\n",
    "    return result"
   ]
  },
  {
   "cell_type": "code",
   "execution_count": null,
   "metadata": {},
   "outputs": [],
   "source": [
    "def set_based_find_unknown_words(vocab,words):\n",
    "    unknown_words = set(words).difference(set(vocab))\n",
    "    return unknown_words"
   ]
  },
  {
   "cell_type": "code",
   "execution_count": 1,
   "metadata": {},
   "outputs": [],
   "source": [
    "# While loop based\n",
    "def search_binary(xs, target):\n",
    "    \"\"\" Find and return the index of key in sequence xs \"\"\"\n",
    "    lb = 0\n",
    "    ub = len(xs)\n",
    "    while True:\n",
    "        if lb == ub:   # If region of interest (ROI) becomes empty\n",
    "           return -1\n",
    "\n",
    "        # Next probe should be in the middle of the ROI\n",
    "        mid_index = (lb + ub) // 2\n",
    "        # Do I have a stopping point here?\n",
    "        # Fetch the item at that position\n",
    "        item_at_mid = xs[mid_index]\n",
    "\n",
    "        # print(\"ROI[{0}:{1}](size={2}), probed='{3}', target='{4}'\"\n",
    "        #       .format(lb, ub, ub-lb, item_at_mid, target))\n",
    "\n",
    "        # How does the probed item compare to the target?\n",
    "        if item_at_mid == target:\n",
    "            return mid_index      # Found it!\n",
    "        if item_at_mid < target:\n",
    "            lb = mid_index + 1    # Use upper half of ROI next time\n",
    "        else:\n",
    "            ub = mid_index        # Use lower half of ROI next time\n"
   ]
  },
  {
   "cell_type": "code",
   "execution_count": null,
   "metadata": {},
   "outputs": [],
   "source": [
    "# Recursion based binary search\n",
    "\n",
    "def binary_search(a_list:list, number:int, lost_len:int = 0):\n",
    "    \"\"\"\n",
    "    Would get the list to search in and a number to search, would return the place in the list if it finds it, or None if not\n",
    "    \"\"\"\n",
    "    mid_position = round(len(a_list) / 2)\n",
    "#     print(lost_len, mid_position)\n",
    "   \n",
    "\n",
    "    middle = a_list[mid_position]\n",
    "    if len(a_list) == 1:\n",
    "        if middle == number:\n",
    "            return mid_position + lost_len\n",
    "        else:\n",
    "            return None\n",
    "            \n",
    "    if middle == number:\n",
    "        return mid_position + lost_len\n",
    "    elif middle > number:\n",
    "        return binary_search(a_list[0:mid_position], number, lost_len)\n",
    "    else:\n",
    "        return binary_search(a_list[mid_position:], number, mid_position+lost_len)"
   ]
  },
  {
   "cell_type": "code",
   "execution_count": 25,
   "metadata": {},
   "outputs": [
    {
     "ename": "RecursionError",
     "evalue": "cannot set the recursion limit to 38 at the recursion depth 38: the limit is too low",
     "output_type": "error",
     "traceback": [
      "\u001b[0;31m---------------------------------------------------------------------------\u001b[0m",
      "\u001b[0;31mRecursionError\u001b[0m                            Traceback (most recent call last)",
      "\u001b[0;32m<ipython-input-25-42e2a4e5babb>\u001b[0m in \u001b[0;36m<module>\u001b[0;34m\u001b[0m\n\u001b[1;32m      1\u001b[0m \u001b[0;32mimport\u001b[0m \u001b[0msys\u001b[0m\u001b[0;34m\u001b[0m\u001b[0;34m\u001b[0m\u001b[0m\n\u001b[0;32m----> 2\u001b[0;31m \u001b[0msys\u001b[0m\u001b[0;34m.\u001b[0m\u001b[0msetrecursionlimit\u001b[0m\u001b[0;34m(\u001b[0m\u001b[0;36m38\u001b[0m\u001b[0;34m)\u001b[0m\u001b[0;34m\u001b[0m\u001b[0;34m\u001b[0m\u001b[0m\n\u001b[0m",
      "\u001b[0;31mRecursionError\u001b[0m: cannot set the recursion limit to 38 at the recursion depth 38: the limit is too low"
     ]
    }
   ],
   "source": []
  },
  {
   "cell_type": "code",
   "execution_count": 59,
   "metadata": {},
   "outputs": [],
   "source": [
    "def binary_search(a_list, target, start_position=None, end_position=None):\n",
    "    if start_position is None:\n",
    "        start_position = 0\n",
    "    if end_position is None:\n",
    "        end_position = len(a_list) - 1\n",
    "    print(start_position, end_position)\n",
    "\n",
    "    if end_position >= start_position:\n",
    "        mid_position = (start_position + end_position) // 2\n",
    "        middle_value = a_list[mid_position]\n",
    "\n",
    "        if middle_value == target:\n",
    "            return mid_position\n",
    "        \n",
    "        if middle_value > target:\n",
    "            end_position = mid_position -1 \n",
    "        else:\n",
    "            start_position = mid_position + 1\n",
    "        return binary_search(a_list, target, start_position, end_position)\n",
    "\n",
    "    else:\n",
    "        return -1"
   ]
  },
  {
   "cell_type": "code",
   "execution_count": 63,
   "metadata": {},
   "outputs": [
    {
     "name": "stdout",
     "output_type": "stream",
     "text": [
      "0 7\n",
      "0 2\n",
      "0 0\n",
      "0\n"
     ]
    }
   ],
   "source": []
  },
  {
   "cell_type": "code",
   "execution_count": null,
   "metadata": {},
   "outputs": [],
   "source": [
    "def merge_lists(a_sorted_list_1: list, a_sorted_list_2:list):\n",
    "    \"\"\" merge sorted lists xs and ys. Return a sorted result \"\"\"\n",
    "    result = []\n",
    "    xi = 0\n",
    "    yi = 0\n",
    "\n",
    "    while True:\n",
    "        if xi >= len(a_sorted_list_1):          # If xs list is finished,\n",
    "            result.extend(a_sorted_list_2[yi:]) # Add remaining items from ys\n",
    "            return result          # And we're done.\n",
    "\n",
    "        if yi >= len(a_sorted_list_2):          # Same again, but swap roles\n",
    "            result.extend(a_sorted_list_1[xi:])\n",
    "            return result\n",
    "\n",
    "        # Both lists still have items, copy smaller item to result.\n",
    "        if a_sorted_list_1[xi] <= a_sorted_list_2[yi]:\n",
    "            result.append(a_sorted_list_1[xi])\n",
    "            xi += 1\n",
    "        else:\n",
    "            result.append(a_sorted_list_2[yi])\n",
    "            yi += 1"
   ]
  },
  {
   "cell_type": "code",
   "execution_count": null,
   "metadata": {},
   "outputs": [],
   "source": [
    "def find_unknowns_merge_pattern(vocab, wds):\n",
    "    \"\"\" Both the vocab and wds must be sorted.  Return a new\n",
    "        list of words from wds that do not occur in vocab.\n",
    "    \"\"\"\n",
    "\n",
    "    result = []\n",
    "    xi = 0\n",
    "    yi = 0\n",
    "\n",
    "    while True:\n",
    "        if xi >= len(vocab):\n",
    "            result.extend(wds[yi:])\n",
    "            return result\n",
    "\n",
    "        if yi >= len(wds):\n",
    "            return result\n",
    "\n",
    "        if vocab[xi] == wds[yi]:  # Good, word exists in vocab\n",
    "            yi += 1\n",
    "\n",
    "        elif vocab[xi] < wds[yi]: # Move past this vocab word,\n",
    "            xi += 1\n",
    "\n",
    "        else:                     # Got word that is not in vocab\n",
    "            result.append(wds[yi])\n",
    "            yi += 1"
   ]
  }
 ],
 "metadata": {
  "kernelspec": {
   "display_name": "Python 3",
   "language": "python",
   "name": "python3"
  },
  "language_info": {
   "codemirror_mode": {
    "name": "ipython",
    "version": 3
   },
   "file_extension": ".py",
   "mimetype": "text/x-python",
   "name": "python",
   "nbconvert_exporter": "python",
   "pygments_lexer": "ipython3",
   "version": "3.8.1"
  }
 },
 "nbformat": 4,
 "nbformat_minor": 4
}
