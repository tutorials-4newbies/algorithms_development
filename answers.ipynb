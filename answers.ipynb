{
 "cells": [
  {
   "cell_type": "code",
   "execution_count": null,
   "metadata": {},
   "outputs": [],
   "source": [
    "def search_linear(sequence, target):\n",
    "    \"\"\" Find and return the index of target in sequence sequence \"\"\"\n",
    "    for (i, v) in enumerate(sequence):\n",
    "       if v == target:\n",
    "           return i\n",
    "    return -1"
   ]
  },
  {
   "cell_type": "code",
   "execution_count": 1,
   "metadata": {},
   "outputs": [],
   "source": [
    "def find_unknown_words(vocab, words):\n",
    "    \"\"\" Return a list of words in wds that do not occur in vocab \"\"\"\n",
    "    result = []\n",
    "    for w in words:\n",
    "        if (search_linear(vocab, w) < 0):\n",
    "            result.append(w)\n",
    "    return result"
   ]
  }
 ],
 "metadata": {
  "kernelspec": {
   "display_name": "Python 3",
   "language": "python",
   "name": "python3"
  },
  "language_info": {
   "codemirror_mode": {
    "name": "ipython",
    "version": 3
   },
   "file_extension": ".py",
   "mimetype": "text/x-python",
   "name": "python",
   "nbconvert_exporter": "python",
   "pygments_lexer": "ipython3",
   "version": "3.8.1"
  }
 },
 "nbformat": 4,
 "nbformat_minor": 4
}
