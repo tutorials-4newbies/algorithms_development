{
 "cells": [
  {
   "cell_type": "markdown",
   "metadata": {},
   "source": [
    "# List algorithms\n",
    "\n",
    "For each challenge here, first write the algo in pseudo code. then implement"
   ]
  },
  {
   "cell_type": "markdown",
   "metadata": {},
   "source": [
    "## Linear search\n",
    "```python\n",
    "robbers = ['Tokyo', 'Professor', 'Lisbon', 'Oslo', 'Helsinki', 'Rio', 'Moscow', 'Berlin', 'Palermo']\n",
    "linear_search(robbers, 'Professor') == 1\n",
    "linear_search(robbers, 'alon') == -1\n",
    "\n",
    "```"
   ]
  },
  {
   "cell_type": "code",
   "execution_count": 2,
   "metadata": {},
   "outputs": [],
   "source": [
    "robbers = ['Tokyo', 'Professor', 'Lisbon', 'Oslo', 'Helsinki', 'Rio', 'Moscow', 'Berlin', 'Palermo']\n",
    "\n",
    "def linear_search(sequence:list, target):\n",
    "    pass\n",
    "\n",
    "assert linear_search(robbers, 'Lisbon') == 2"
   ]
  },
  {
   "cell_type": "markdown",
   "metadata": {},
   "source": [
    "## Revisting the big O notation\n",
    "\n",
    ">Big O notation describes the **complexity of your code using algebraic terms.**\n",
    "\n",
    "So what is the big O notation for our linear_search?\n",
    "1. How many steps it would take in the worse case?\n",
    "2. How many would it take in the best case?\n",
    "\n",
    "[Read more about big O](https://www.freecodecamp.org/news/big-o-notation-why-it-matters-and-why-it-doesnt-1674cfa8a23c/)"
   ]
  },
  {
   "cell_type": "code",
   "execution_count": 3,
   "metadata": {},
   "outputs": [],
   "source": [
    "## Let's tackle a more real life problem"
   ]
  },
  {
   "cell_type": "code",
   "execution_count": 5,
   "metadata": {},
   "outputs": [],
   "source": [
    "\n",
    "vocab = [\"apple\", \"boy\", \"dog\", \"down\",\n",
    "                          \"fell\", \"girl\", \"grass\", \"the\", \"tree\"]\n",
    "book_words = \"the apple fell from the tree to the grass\".split()\n"
   ]
  },
  {
   "cell_type": "code",
   "execution_count": 8,
   "metadata": {},
   "outputs": [],
   "source": [
    "def find_unknown_words(vocab:list, book_words:list):\n",
    "    pass\n",
    "\n",
    "\n"
   ]
  },
  {
   "cell_type": "code",
   "execution_count": null,
   "metadata": {},
   "outputs": [],
   "source": [
    "assert find_unknown_words(vocab, book_words) == [\"from\", \"to\"]\n",
    "assert find_unknown_words([], book_words) == book_words"
   ]
  },
  {
   "cell_type": "markdown",
   "metadata": {},
   "source": [
    "How would you implement `find_unknown_words` using the linear_Search we've built before"
   ]
  },
  {
   "cell_type": "code",
   "execution_count": 1,
   "metadata": {},
   "outputs": [
    {
     "data": {
      "text/plain": [
       "19455"
      ]
     },
     "execution_count": 1,
     "metadata": {},
     "output_type": "execute_result"
    }
   ],
   "source": [
    "# but for lets try with a bigger vocab\n",
    "\n",
    "def load_words_from_file(filename):\n",
    "    \"\"\" Read words from filename, return list of words. \"\"\"\n",
    "    f = open(filename, \"r\")\n",
    "    file_content = f.read()\n",
    "    f.close()\n",
    "    wds = file_content.split()\n",
    "    return wds\n",
    "\n",
    "bigger_vocab = load_words_from_file(\"vocab.txt\")\n",
    "len(bigger_vocab)"
   ]
  },
  {
   "cell_type": "code",
   "execution_count": 8,
   "metadata": {},
   "outputs": [],
   "source": [
    "# For loading words from a book with need some normalization\n",
    "\n",
    "def text_to_words(text: str)-> list:\n",
    "    pass\n",
    "\n",
    "\n",
    "def get_words_in_book(filename):\n",
    "    \"\"\" Read a book from filename, and return a list of its words. \"\"\"\n",
    "    f = open(filename, \"r\")\n",
    "    content = f.read()\n",
    "    f.close()\n",
    "    wds = text_to_words(content)\n",
    "    return wds\n"
   ]
  },
  {
   "cell_type": "code",
   "execution_count": 6,
   "metadata": {},
   "outputs": [],
   "source": [
    "assert text_to_words('\"Well, I never!\", said Alice.') ==  [\"well\", \"i\", \"never\", \"said\", \"alice\"]\n",
    "# How we can implement text to words?\n",
    "# Note you should use split and probably replace or python translate"
   ]
  },
  {
   "cell_type": "code",
   "execution_count": 10,
   "metadata": {},
   "outputs": [],
   "source": [
    "# Getting back to big O\n",
    "len(get_words_in_book('alice_in_wonderland.txt'))"
   ]
  },
  {
   "cell_type": "code",
   "execution_count": null,
   "metadata": {},
   "outputs": [],
   "source": [
    "import time\n",
    "alice_words = get_words_in_book('alice_in_wonderland.txt')\n",
    "vocab = load_words_from_file('vocab.txt')\n",
    "start = time.process_time() \n",
    "\n",
    "end = time.process_time()\n",
    "print(f\"Delta {end-start}\")"
   ]
  },
  {
   "cell_type": "markdown",
   "metadata": {},
   "source": [
    "# Read and play more with algorithms\n",
    "\n",
    "https://www.khanacademy.org/computing/computer-science/algorithms\n",
    "\n",
    "Most of this tutorial was \"borrowed\" from [here](http://openbookproject.net/thinkcs/python/english3e/list_algorithms.html)"
   ]
  }
 ],
 "metadata": {
  "kernelspec": {
   "display_name": "Python 3",
   "language": "python",
   "name": "python3"
  },
  "language_info": {
   "codemirror_mode": {
    "name": "ipython",
    "version": 3
   },
   "file_extension": ".py",
   "mimetype": "text/x-python",
   "name": "python",
   "nbconvert_exporter": "python",
   "pygments_lexer": "ipython3",
   "version": "3.8.1"
  }
 },
 "nbformat": 4,
 "nbformat_minor": 4
}
