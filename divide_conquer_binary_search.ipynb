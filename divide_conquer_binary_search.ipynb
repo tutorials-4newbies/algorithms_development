{
 "cells": [
  {
   "cell_type": "markdown",
   "metadata": {},
   "source": [
    "# Algorithmetic development\n",
    "\n",
    "## Divide and conquer algorithms\n",
    "\n",
    "Broadly, we can understand divide-and-conquer approach in a three-step process.\n",
    "\n",
    "Divide/Break\n",
    "------------\n",
    "This step involves breaking the problem into smaller sub-problems. Sub-problems should represent a part of the original problem. This step generally takes a recursive approach to divide the problem until no sub-problem is further divisible. At this stage, sub-problems become atomic in nature but still represent some part of the actual problem.\n",
    "\n",
    "Conquer/Solve\n",
    "-------------\n",
    "This step receives a lot of smaller sub-problems to be solved. Generally, at this level, the problems are considered 'solved' on their own.\n",
    "\n",
    "Merge/Combine\n",
    "--------------\n",
    "When the smaller sub-problems are solved, this stage recursively combines them until they formulate a solution of the original problem. This algorithmic approach works recursively and conquer & merge steps works so close that they appear as one.\n",
    "\n"
   ]
  },
  {
   "cell_type": "markdown",
   "metadata": {},
   "source": [
    "## Binary search using recursion loop\n",
    "\n",
    "Binary search is a great example for something that can be implemented using divide and conquer\n",
    "\n",
    "Let's visualize it"
   ]
  },
  {
   "cell_type": "markdown",
   "metadata": {},
   "source": [
    "![binary search decision tree](./imgs/binary_search_decision_tree.png)"
   ]
  },
  {
   "cell_type": "code",
   "execution_count": 1,
   "metadata": {},
   "outputs": [],
   "source": [
    "# lets try to implement this\n",
    "\n",
    "a_list = [1, 3, 4, 6, 7,8, 10, 13, 14]\n",
    "\n",
    "def binary_search(a_list:list, number:int):\n",
    "    \"\"\"\n",
    "    Would get the list to search in and a number to search, would return the place in the list if it finds it, or None if not\n",
    "    \"\"\"\n",
    "    pass"
   ]
  },
  {
   "cell_type": "code",
   "execution_count": 6,
   "metadata": {},
   "outputs": [],
   "source": [
    "def binary_search(a_list:list, number:int):\n",
    "    \"\"\"\n",
    "    Would get the list to search in and a number to search, would return the place in the list if it finds it, or None if not\n",
    "    \"\"\"\n",
    "    mid_position = round(len(a_list) / 2)\n",
    "    middle = a_list[mid_position]\n",
    "    \n",
    "    print(mid_position)\n",
    "    print(middle)\n",
    "    \n"
   ]
  },
  {
   "cell_type": "code",
   "execution_count": 7,
   "metadata": {},
   "outputs": [
    {
     "name": "stdout",
     "output_type": "stream",
     "text": [
      "4\n",
      "7\n"
     ]
    }
   ],
   "source": [
    "binary_search(a_list, 3)"
   ]
  },
  {
   "cell_type": "code",
   "execution_count": 77,
   "metadata": {},
   "outputs": [],
   "source": [
    "#  recursive\n",
    "a_list = [1, 3, 4, 6, 7,8, 10, 13, 14]\n",
    "\n",
    "\n",
    "def binary_search(a_list:list, number:int, lost_len:int = 0):\n",
    "    \"\"\"\n",
    "    Would get the list to search in and a number to search, would return the place in the list if it finds it, or None if not\n",
    "    \"\"\"\n",
    "    \n",
    "    mid_position = round(len(a_list) / 2)\n",
    "#     print(lost_len, mid_position)\n",
    "   \n",
    "\n",
    "    middle = a_list[mid_position]\n",
    "    if len(a_list) == 1:\n",
    "        if middle == number:\n",
    "            return mid_position + lost_len\n",
    "        else:\n",
    "            return None\n",
    "            \n",
    "    if middle == number:\n",
    "        return mid_position + lost_len\n",
    "    elif middle > number:\n",
    "        return binary_search(a_list[0:mid_position], number, lost_len)\n",
    "    else:\n",
    "        return binary_search(a_list[mid_position:], number, mid_position+lost_len)"
   ]
  },
  {
   "cell_type": "code",
   "execution_count": 80,
   "metadata": {},
   "outputs": [
    {
     "name": "stdout",
     "output_type": "stream",
     "text": [
      "0 4\n",
      "0 2\n",
      "0 1\n",
      "1\n"
     ]
    }
   ],
   "source": [
    "a = binary_search(a_list, 3)\n",
    "print(a)"
   ]
  },
  {
   "cell_type": "code",
   "execution_count": null,
   "metadata": {},
   "outputs": [],
   "source": []
  }
 ],
 "metadata": {
  "kernelspec": {
   "display_name": "Python 3",
   "language": "python",
   "name": "python3"
  },
  "language_info": {
   "codemirror_mode": {
    "name": "ipython",
    "version": 3
   },
   "file_extension": ".py",
   "mimetype": "text/x-python",
   "name": "python",
   "nbconvert_exporter": "python",
   "pygments_lexer": "ipython3",
   "version": "3.8.1"
  }
 },
 "nbformat": 4,
 "nbformat_minor": 4
}
