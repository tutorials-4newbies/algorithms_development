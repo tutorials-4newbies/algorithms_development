{
 "cells": [
  {
   "cell_type": "markdown",
   "metadata": {},
   "source": [
    "# Algorithmetic development\n",
    "\n",
    "## Divide and conquer algorithms\n",
    "\n",
    "Broadly, we can understand divide-and-conquer approach in a three-step process.\n",
    "\n",
    "Divide/Break\n",
    "------------\n",
    "This step involves breaking the problem into smaller sub-problems. Sub-problems should represent a part of the original problem. This step generally takes a recursive approach to divide the problem until no sub-problem is further divisible. At this stage, sub-problems become atomic in nature but still represent some part of the actual problem.\n",
    "\n",
    "Conquer/Solve\n",
    "-------------\n",
    "This step receives a lot of smaller sub-problems to be solved. Generally, at this level, the problems are considered 'solved' on their own.\n",
    "\n",
    "Merge/Combine\n",
    "--------------\n",
    "When the smaller sub-problems are solved, this stage recursively combines them until they formulate a solution of the original problem. This algorithmic approach works recursively and conquer & merge steps works so close that they appear as one.\n",
    "\n"
   ]
  },
  {
   "cell_type": "markdown",
   "metadata": {},
   "source": [
    "\n",
    "Binary search is a great example for something that can be implemented using divide and conquer\n",
    "\n",
    "Let's visualize it"
   ]
  },
  {
   "cell_type": "markdown",
   "metadata": {},
   "source": [
    "![binary search decision tree](./imgs/binary_search_decision_tree.png)"
   ]
  },
  {
   "cell_type": "markdown",
   "metadata": {},
   "source": [
    "## Binary search with a while loop\n",
    "\n",
    "> What is the Region Of interest in each step? \n",
    "> On what do we divide?\n",
    "> What is are possible \"Solutions\"\n"
   ]
  },
  {
   "cell_type": "code",
   "execution_count": null,
   "metadata": {},
   "outputs": [],
   "source": [
    "def binary_search(sequence, target):\n",
    "    pass\n",
    "    #lower_bound = ?\n",
    "    #higher_bound = ?\n",
    "    # Stop condition?\n",
    "    # How do we know we didn't find it?\n",
    "    # How should we focus the Region Of interest?\n",
    "    "
   ]
  },
  {
   "cell_type": "code",
   "execution_count": null,
   "metadata": {},
   "outputs": [],
   "source": [
    "def binary_search(sequence, target):\n",
    "    \"\"\"\n",
    "    A function for finding the index of target in a sequence\n",
    "    Return -1 if not in the index\n",
    "    \"\"\"\n",
    "    pass\n",
    "        "
   ]
  },
  {
   "cell_type": "code",
   "execution_count": null,
   "metadata": {},
   "outputs": [],
   "source": [
    "a_list = [1, 3, 4, 6, 7,8, 10, 13, 14]\n",
    "\n",
    "binary_search(a_list, 6)"
   ]
  },
  {
   "cell_type": "markdown",
   "metadata": {},
   "source": [
    "## Binary search using recursion loop\n"
   ]
  },
  {
   "cell_type": "code",
   "execution_count": null,
   "metadata": {},
   "outputs": [],
   "source": [
    "\n",
    "# lets try to implement this\n",
    "\n",
    "a_list = [1, 3, 4, 6, 7,8, 10, 13, 14]\n",
    "\n",
    "def binary_search(a_list:list, number:int):\n",
    "    \"\"\"\n",
    "    Would get the list to search in and a number to search, would return the place in the list if it finds it, or None if not\n",
    "    \"\"\"\n",
    "    pass"
   ]
  },
  {
   "cell_type": "code",
   "execution_count": null,
   "metadata": {},
   "outputs": [],
   "source": [
    "#  recursive\n",
    "\n",
    "\n",
    "def binary_search(a_list:list, number:int, start_position=None, end_position=None):\n",
    "    \"\"\"\n",
    "    Would get the list to search in and a number to search, would return the place in the list if it finds it, or None if not\n",
    "    \"\"\"\n",
    "    \n",
    "    pass\n",
    "    # when do we stop?\n",
    "    # When do we know we've failed"
   ]
  },
  {
   "cell_type": "code",
   "execution_count": null,
   "metadata": {},
   "outputs": [],
   "source": [
    "a_list = [1, 3, 4, 6, 7,8, 10, 13, 14]\n",
    "\n",
    "a = binary_search(a_list, 3)\n",
    "print(a)"
   ]
  },
  {
   "cell_type": "markdown",
   "metadata": {},
   "source": [
    "# Read more\n",
    "* [wikipedia](https://en.wikipedia.org/wiki/Divide-and-conquer_algorithm)\n",
    "* [Divide and conquer tutorial](https://www.tutorialspoint.com/python_data_structure/python_divide_and_conquer.htm)"
   ]
  }
 ],
 "metadata": {
  "kernelspec": {
   "display_name": "Python 3",
   "language": "python",
   "name": "python3"
  },
  "language_info": {
   "codemirror_mode": {
    "name": "ipython",
    "version": 3
   },
   "file_extension": ".py",
   "mimetype": "text/x-python",
   "name": "python",
   "nbconvert_exporter": "python",
   "pygments_lexer": "ipython3",
   "version": "3.8.1"
  }
 },
 "nbformat": 4,
 "nbformat_minor": 4
}
