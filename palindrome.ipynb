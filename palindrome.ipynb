{
 "cells": [
  {
   "cell_type": "markdown",
   "metadata": {},
   "source": [
    "# Palindromes\n",
    "\n",
    "Examples: madam, civic, rotor, kayak"
   ]
  },
  {
   "cell_type": "code",
   "execution_count": null,
   "metadata": {},
   "outputs": [],
   "source": [
    "def palindrome_str_detector(candidate:str):\n",
    "    \"\"\"\n",
    "    returns is_palindrome boolean\n",
    "    \"\"\""
   ]
  },
  {
   "cell_type": "code",
   "execution_count": null,
   "metadata": {},
   "outputs": [],
   "source": [
    "assert palindrome_str_detector('civic') == True\n"
   ]
  },
  {
   "cell_type": "code",
   "execution_count": null,
   "metadata": {},
   "outputs": [],
   "source": [
    "assert palindrome_str_detector('alon') == False"
   ]
  },
  {
   "cell_type": "markdown",
   "metadata": {},
   "source": [
    "## Recursive solution\n",
    "\n",
    "Like the previous solution this lends it self to recursion \n",
    "How an we break this problem?\n"
   ]
  },
  {
   "cell_type": "code",
   "execution_count": 13,
   "metadata": {},
   "outputs": [],
   "source": [
    "def recursive_palindrome_detector(candidate:str):\n",
    "    \"\"\"\n",
    "    Implemented with a recusrsion based solution\n",
    "    \"\"\"\n",
    "    low = 0\n",
    "    high= len(candidate) - 1\n",
    "    print(low, high, candidate)\n",
    "    if low >= high:\n",
    "        return True\n",
    "    if not candidate[low] == candidate[high]:\n",
    "        return False\n",
    "    shorten_candidate = candidate[low +1: high]\n",
    "    return recursive_palindrome_detector(shorten_candidate)\n"
   ]
  },
  {
   "cell_type": "code",
   "execution_count": 14,
   "metadata": {},
   "outputs": [
    {
     "name": "stdout",
     "output_type": "stream",
     "text": [
      "0 4 civic\n",
      "0 2 ivi\n",
      "0 0 v\n"
     ]
    }
   ],
   "source": [
    "assert recursive_palindrome_detector('civic') == True\n"
   ]
  },
  {
   "cell_type": "code",
   "execution_count": 19,
   "metadata": {},
   "outputs": [],
   "source": [
    "def recursive_palindrome_detector_2(candidate:str, low=None, high=None):\n",
    "    \"\"\"\n",
    "    Implemented with a recusrsion based solution\n",
    "    \"\"\"\n",
    "    low = low or 0\n",
    "    high= high or len(candidate) - 1\n",
    "    print(low, high, candidate)\n",
    "    if low >= high:\n",
    "        return True\n",
    "    if not candidate[low] == candidate[high]:\n",
    "        return False\n",
    "    \n",
    "    return recursive_palindrome_detector_2(candidate, low + 1, high -1)\n"
   ]
  },
  {
   "cell_type": "code",
   "execution_count": 20,
   "metadata": {},
   "outputs": [
    {
     "name": "stdout",
     "output_type": "stream",
     "text": [
      "0 4 civic\n",
      "1 3 civic\n",
      "2 2 civic\n"
     ]
    }
   ],
   "source": [
    "assert recursive_palindrome_detector_2('civic') == True\n",
    "# assert recursive_palindrome_detector_2('alon') == False\n"
   ]
  }
 ],
 "metadata": {
  "kernelspec": {
   "display_name": "Python 3",
   "language": "python",
   "name": "python3"
  },
  "language_info": {
   "codemirror_mode": {
    "name": "ipython",
    "version": 3
   },
   "file_extension": ".py",
   "mimetype": "text/x-python",
   "name": "python",
   "nbconvert_exporter": "python",
   "pygments_lexer": "ipython3",
   "version": "3.8.1"
  }
 },
 "nbformat": 4,
 "nbformat_minor": 4
}
