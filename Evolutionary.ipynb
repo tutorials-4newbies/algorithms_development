{
 "cells": [
  {
   "cell_type": "markdown",
   "metadata": {},
   "source": [
    "# Links\n",
    "\n",
    "[simple genetic](https://machinelearningmastery.com/simple-genetic-algorithm-from-scratch-in-python/)\n",
    "\n",
    "[Evolutionary algo](https://towardsdatascience.com/an-extensible-evolutionary-algorithm-example-in-python-7372c56a557b)\n",
    "\n",
    "[General inspiration](https://mathspp.com/workshops/intro-python-evolutionary-algorithms)"
   ]
  }
 ],
 "metadata": {
  "kernelspec": {
   "display_name": "Python 3",
   "language": "python",
   "name": "python3"
  },
  "language_info": {
   "codemirror_mode": {
    "name": "ipython",
    "version": 3
   },
   "file_extension": ".py",
   "mimetype": "text/x-python",
   "name": "python",
   "nbconvert_exporter": "python",
   "pygments_lexer": "ipython3",
   "version": "3.8.1"
  }
 },
 "nbformat": 4,
 "nbformat_minor": 4
}
