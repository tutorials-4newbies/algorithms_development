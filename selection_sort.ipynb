{
 "cells": [
  {
   "cell_type": "markdown",
   "metadata": {},
   "source": [
    "# Sorting\n",
    "\n",
    "## Selection sort\n",
    "\n",
    "* Last time we've demonstrated a sorting function\n",
    "\n",
    "* We've used ourmax inside largest_n_elements\n",
    "\n",
    "* Let's explore some more sorting algo"
   ]
  },
  {
   "cell_type": "markdown",
   "metadata": {},
   "source": [
    "Let's use this sorting game example from khan academy\n",
    "\n",
    "The [original](https://www.khanacademy.org/computing/computer-science/algorithms/sorting-algorithms/a/sorting)\n",
    "\n",
    "In each round you choose two cards to swap. \n",
    "\n",
    "the goal is to achieve a sorted (low to high) array.\n",
    "\n",
    "What techniques did you use?"
   ]
  },
  {
   "cell_type": "code",
   "execution_count": 1,
   "metadata": {},
   "outputs": [
    {
     "data": {
      "text/html": [
       "\n",
       "        <iframe\n",
       "            width=\"600\"\n",
       "            height=\"300\"\n",
       "            src=\"https://www.khanacademy.org/computer-programming/program/4869717459730432/embedded?embed=yes&author=no&editor=no&width=688&buttons=no&settings=%7B%7D\"\n",
       "            frameborder=\"0\"\n",
       "            allowfullscreen\n",
       "        ></iframe>\n",
       "        "
      ],
      "text/plain": [
       "<IPython.lib.display.IFrame at 0x7fd4f4761e50>"
      ]
     },
     "execution_count": 1,
     "metadata": {},
     "output_type": "execute_result"
    }
   ],
   "source": [
    "import IPython\n",
    "src = \"https://www.khanacademy.org/computer-programming/program/4869717459730432/embedded?embed=yes&author=no&editor=no&width=688&buttons=no&settings=%7B%7D\"\n",
    "IPython.display.IFrame(src, 600, 300)"
   ]
  },
  {
   "cell_type": "code",
   "execution_count": 7,
   "metadata": {},
   "outputs": [
    {
     "ename": "AssertionError",
     "evalue": "",
     "output_type": "error",
     "traceback": [
      "\u001b[0;31m---------------------------------------------------------------------------\u001b[0m",
      "\u001b[0;31mAssertionError\u001b[0m                            Traceback (most recent call last)",
      "\u001b[0;32m<ipython-input-7-55621ae95c98>\u001b[0m in \u001b[0;36m<module>\u001b[0;34m\u001b[0m\n\u001b[1;32m      7\u001b[0m \u001b[0;34m\u001b[0m\u001b[0m\n\u001b[1;32m      8\u001b[0m \u001b[0mnew_list\u001b[0m \u001b[0;34m=\u001b[0m \u001b[0mswap\u001b[0m\u001b[0;34m(\u001b[0m\u001b[0moriginal\u001b[0m\u001b[0;34m,\u001b[0m \u001b[0;36m0\u001b[0m\u001b[0;34m,\u001b[0m \u001b[0;36m2\u001b[0m\u001b[0;34m)\u001b[0m\u001b[0;34m\u001b[0m\u001b[0;34m\u001b[0m\u001b[0m\n\u001b[0;32m----> 9\u001b[0;31m \u001b[0;32massert\u001b[0m \u001b[0mnew_list\u001b[0m \u001b[0;34m==\u001b[0m \u001b[0;34m[\u001b[0m\u001b[0;36m1\u001b[0m\u001b[0;34m,\u001b[0m \u001b[0;36m5\u001b[0m\u001b[0;34m,\u001b[0m \u001b[0;36m3\u001b[0m\u001b[0;34m]\u001b[0m\u001b[0;34m\u001b[0m\u001b[0;34m\u001b[0m\u001b[0m\n\u001b[0m",
      "\u001b[0;31mAssertionError\u001b[0m: "
     ]
    }
   ],
   "source": [
    "# Implementing swap\n",
    "\n",
    "def swap(original_list:list, first_pos_index:int, second_post_index:int)-> list:\n",
    "    pass\n",
    "\n",
    "original= [3, 5, 1]\n",
    "\n",
    "new_list = swap(original, 0, 2)\n",
    "assert new_list == [1, 5, 3]"
   ]
  },
  {
   "cell_type": "markdown",
   "metadata": {},
   "source": [
    "## Breaking down the Algo to steps\n",
    "*  \n",
    "*"
   ]
  },
  {
   "cell_type": "code",
   "execution_count": 3,
   "metadata": {},
   "outputs": [],
   "source": [
    "def find_min_position(original_list:list)->int:\n",
    "    \"\"\"\n",
    "    Returns a the index position of the smallest element\n",
    "    sort or sorted\n",
    "    \"\"\"\n",
    "    \n",
    "    minimal_position = 0\n",
    "    for idx, item in enumerate(original_list):\n",
    "        if original_list[minimal_position] > item:\n",
    "            minimal_position = idx\n",
    "    return idx\n",
    "\n",
    "assert find_min_position([7, 16, -1, -3]) == 3"
   ]
  },
  {
   "cell_type": "code",
   "execution_count": 10,
   "metadata": {},
   "outputs": [
    {
     "data": {
      "text/html": [
       "\n",
       "        <iframe\n",
       "            width=\"400\"\n",
       "            height=\"300\"\n",
       "            src=\"https://www.youtube.com/embed/https://www.youtube.com/watch?v=Ns4TPTC8whw\"\n",
       "            frameborder=\"0\"\n",
       "            allowfullscreen\n",
       "        ></iframe>\n",
       "        "
      ],
      "text/plain": [
       "<IPython.lib.display.YouTubeVideo at 0x7faebe9dca60>"
      ]
     },
     "execution_count": 10,
     "metadata": {},
     "output_type": "execute_result"
    }
   ],
   "source": [
    "# Implementing selection sort\n",
    "IPython.display.YouTubeVideo(\"https://www.youtube.com/watch?v=Ns4TPTC8whw\")"
   ]
  },
  {
   "cell_type": "code",
   "execution_count": null,
   "metadata": {},
   "outputs": [],
   "source": [
    "def select_sort(original_list:list)->list:\n",
    "    pass\n",
    "\n",
    "assert select_sort([1, 7, 3, 9, 16]), [1,3,7,9. 16]"
   ]
  },
  {
   "cell_type": "markdown",
   "metadata": {},
   "source": [
    "# Discussion: what is the O notation for this kind of function\n",
    "* What is the best case?\n",
    "* The worst case ?\n",
    "\n",
    "WHat happens for each n? \n",
    "* Checking the minimum \n",
    "* swapping\n",
    "\n",
    "So how many swaps are? n, \n",
    "but inside swap? does n size has an affect?\n",
    "\n",
    "how many by the minimum finding? also n\n",
    "but inside it? a loop. how many times it runs? \n",
    "https://www.khanacademy.org/computing/computer-science/algorithms/sorting-algorithms/a/analysis-of-selection-sort"
   ]
  },
  {
   "cell_type": "code",
   "execution_count": null,
   "metadata": {},
   "outputs": [],
   "source": []
  }
 ],
 "metadata": {
  "kernelspec": {
   "display_name": "Python 3",
   "language": "python",
   "name": "python3"
  },
  "language_info": {
   "codemirror_mode": {
    "name": "ipython",
    "version": 3
   },
   "file_extension": ".py",
   "mimetype": "text/x-python",
   "name": "python",
   "nbconvert_exporter": "python",
   "pygments_lexer": "ipython3",
   "version": "3.8.1"
  }
 },
 "nbformat": 4,
 "nbformat_minor": 4
}
