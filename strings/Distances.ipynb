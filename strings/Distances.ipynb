{
 "cells": [
  {
   "cell_type": "markdown",
   "metadata": {},
   "source": [
    "[אוקלידי]()\n",
    "\n",
    "[מנהטן](https://he.wikipedia.org/wiki/%D7%92%D7%90%D7%95%D7%9E%D7%98%D7%A8%D7%99%D7%99%D7%AA_%D7%A0%D7%94%D7%92%D7%99_%D7%94%D7%9E%D7%95%D7%A0%D7%99%D7%95%D7%AA)\n",
    "\n",
    "[צ'בישב](https://he.wikipedia.org/wiki/%D7%9E%D7%A8%D7%97%D7%A7_%D7%A6%27%D7%91%D7%99%D7%A9%D7%91)\n",
    "\n",
    "[לווינשטיין](https://he.wikipedia.org/wiki/%D7%9E%D7%A8%D7%97%D7%A7_%D7%9C%D7%95%D7%99%D7%A0%D7%A9%D7%98%D7%99%D7%99%D7%9F)\n",
    "\n",
    "[אוקלידי מול מנהטן](https://www.youtube.com/watch?v=p3HbBlcXDTE)\n",
    "\n",
    "[Cosine similiarity](https://www.sciencedirect.com/topics/computer-science/cosine-similarity) and [this](https://www.machinelearningplus.com/nlp/cosine-similarity/)"
   ]
  }
 ],
 "metadata": {
  "kernelspec": {
   "display_name": "Python 3",
   "language": "python",
   "name": "python3"
  },
  "language_info": {
   "codemirror_mode": {
    "name": "ipython",
    "version": 3
   },
   "file_extension": ".py",
   "mimetype": "text/x-python",
   "name": "python",
   "nbconvert_exporter": "python",
   "pygments_lexer": "ipython3",
   "version": "3.8.1"
  }
 },
 "nbformat": 4,
 "nbformat_minor": 4
}
