{
 "cells": [
  {
   "cell_type": "markdown",
   "metadata": {},
   "source": [
    "# Anagrams\n",
    "\n",
    "An anagram is a word or phrase formed by rearranging the letters of a different word or phrase, typically using all the original letters exactly once.[1] For example, the word anagram itself can be rearranged into nag a ram, also the word &**binary** into **brainy** and the word **adobe** into **abode**.\n",
    "\n",
    "\"parliament\" = \"partial men\""
   ]
  },
  {
   "cell_type": "markdown",
   "metadata": {},
   "source": [
    "## 4 Ways to check if two words are an anagarm\n",
    "\n",
    "* For easier rules: let's limit ourself to 26 english ascii letters\n",
    "\n",
    "### Discussion:"
   ]
  },
  {
   "cell_type": "code",
   "execution_count": 1,
   "metadata": {},
   "outputs": [
    {
     "ename": "AssertionError",
     "evalue": "",
     "output_type": "error",
     "traceback": [
      "\u001b[0;31m---------------------------------------------------------------------------\u001b[0m",
      "\u001b[0;31mAssertionError\u001b[0m                            Traceback (most recent call last)",
      "\u001b[0;32m<ipython-input-1-ef86d2b79007>\u001b[0m in \u001b[0;36m<module>\u001b[0;34m\u001b[0m\n\u001b[1;32m      3\u001b[0m     \u001b[0;32mpass\u001b[0m\u001b[0;34m\u001b[0m\u001b[0;34m\u001b[0m\u001b[0m\n\u001b[1;32m      4\u001b[0m \u001b[0;34m\u001b[0m\u001b[0m\n\u001b[0;32m----> 5\u001b[0;31m \u001b[0;32massert\u001b[0m \u001b[0mis_anagram\u001b[0m\u001b[0;34m(\u001b[0m\u001b[0;34m\"heart\"\u001b[0m\u001b[0;34m,\u001b[0m \u001b[0;34m\"earth\"\u001b[0m\u001b[0;34m)\u001b[0m \u001b[0;34m==\u001b[0m \u001b[0;32mTrue\u001b[0m\u001b[0;34m\u001b[0m\u001b[0;34m\u001b[0m\u001b[0m\n\u001b[0m",
      "\u001b[0;31mAssertionError\u001b[0m: "
     ]
    }
   ],
   "source": [
    "def is_anagram_check(word1:str, word2:str)->bool:\n",
    "    # checking off\n",
    "    pass\n",
    "\n",
    "assert is_anagram_check(\"heart\", \"earth\") == True"
   ]
  },
  {
   "cell_type": "markdown",
   "metadata": {},
   "source": [
    "Let's discuss complexity of this solution\n",
    "How many loops for n?"
   ]
  },
  {
   "cell_type": "code",
   "execution_count": null,
   "metadata": {},
   "outputs": [],
   "source": [
    "def is_anagram_by_sort(word1: str, word2:str)->bool:\n",
    "    # using sort\n",
    "    pass\n",
    "\n",
    "assert is_anagram_by_sort(\"heart\", \"earth\") == True"
   ]
  },
  {
   "cell_type": "markdown",
   "metadata": {},
   "source": [
    "Let's discuss complexity of this solution\n",
    "What drives the complexity here? "
   ]
  },
  {
   "cell_type": "code",
   "execution_count": null,
   "metadata": {},
   "outputs": [],
   "source": [
    "# We can also try to brute force it - finding all possible answers and throwing them on it\n",
    "\n",
    "def is_anagram_brute(word1: str, word2:str)->bool:\n",
    "    # using sort\n",
    "    pass\n",
    "\n",
    "assert is_anagram_brute(\"heart\", \"earth\") == True\n",
    "\n",
    "# Another varient might be a dictionary attack"
   ]
  },
  {
   "cell_type": "markdown",
   "metadata": {},
   "source": [
    "Let's discuss complexity of this solution\n",
    "Is this feasable? "
   ]
  },
  {
   "cell_type": "code",
   "execution_count": null,
   "metadata": {},
   "outputs": [],
   "source": [
    "# A lower O(n) way\n",
    "# Let's create two arrays for the lower 26 ascii letters\n",
    "# Using ord(),\\\n",
    "# Comparing pairs\n"
   ]
  }
 ],
 "metadata": {
  "kernelspec": {
   "display_name": "Python 3",
   "language": "python",
   "name": "python3"
  },
  "language_info": {
   "codemirror_mode": {
    "name": "ipython",
    "version": 3
   },
   "file_extension": ".py",
   "mimetype": "text/x-python",
   "name": "python",
   "nbconvert_exporter": "python",
   "pygments_lexer": "ipython3",
   "version": "3.8.1"
  }
 },
 "nbformat": 4,
 "nbformat_minor": 4
}
