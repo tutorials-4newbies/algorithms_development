{
 "cells": [
  {
   "cell_type": "markdown",
   "metadata": {},
   "source": [
    "# Finding the max of a list\n",
    "## Rules:\n",
    "* You cannot use max()\n",
    "* You don't know if the list is sorted and you can't use sort"
   ]
  },
  {
   "cell_type": "code",
   "execution_count": 20,
   "metadata": {},
   "outputs": [],
   "source": [
    "def ourmax(a_list: list):\n",
    "    \"\"\"\n",
    "    returns the highest element\n",
    "    \"\"\"\n",
    "    result = a_list[0]\n",
    "    while len(a_list)>1:\n",
    "        print(a_list, result)\n",
    "        if result <= a_list[1]:\n",
    "            result = a_list[1]\n",
    "        a_list = a_list[1:]\n",
    "        \n",
    "    return result"
   ]
  },
  {
   "cell_type": "code",
   "execution_count": 21,
   "metadata": {},
   "outputs": [
    {
     "name": "stdout",
     "output_type": "stream",
     "text": [
      "[1, 5, 8, 22, 12, 7, 2, 7] 1\n",
      "[5, 8, 22, 12, 7, 2, 7] 5\n",
      "[8, 22, 12, 7, 2, 7] 8\n",
      "[22, 12, 7, 2, 7] 22\n",
      "[12, 7, 2, 7] 22\n",
      "[7, 2, 7] 22\n",
      "[2, 7] 22\n"
     ]
    },
    {
     "data": {
      "text/plain": [
       "22"
      ]
     },
     "execution_count": 21,
     "metadata": {},
     "output_type": "execute_result"
    }
   ],
   "source": [
    "ourmax([1, 5, 8, 22, 12, 7, 2, 7])"
   ]
  },
  {
   "cell_type": "code",
   "execution_count": 23,
   "metadata": {},
   "outputs": [],
   "source": [
    "def ourmax(a_list: list):\n",
    "    \"\"\"\n",
    "    returns the highest element\n",
    "    \"\"\"\n",
    "    pass"
   ]
  },
  {
   "cell_type": "code",
   "execution_count": 24,
   "metadata": {},
   "outputs": [
    {
     "data": {
      "text/plain": [
       "22"
      ]
     },
     "execution_count": 24,
     "metadata": {},
     "output_type": "execute_result"
    }
   ],
   "source": [
    "ourmax([1, 5, 8, 22, 12, 7, 2, 7])"
   ]
  },
  {
   "cell_type": "code",
   "execution_count": 22,
   "metadata": {},
   "outputs": [
    {
     "name": "stdout",
     "output_type": "stream",
     "text": [
      "[1, 5, 8, 22, 12, 7, 2, 7] 1\n",
      "[5, 8, 22, 12, 7, 2, 7] 5\n",
      "[8, 22, 12, 7, 2, 7] 8\n",
      "[22, 12, 7, 2, 7] 22\n",
      "[12, 7, 2, 7] 22\n",
      "[7, 2, 7] 22\n",
      "[2, 7] 22\n"
     ]
    }
   ],
   "source": [
    "assert ourmax([1, 5, 8, 22, 12, 7, 2, 7]) == 22\n"
   ]
  },
  {
   "cell_type": "code",
   "execution_count": null,
   "metadata": {},
   "outputs": [],
   "source": [
    "# What is the Big O notation complexity of this solution?"
   ]
  },
  {
   "cell_type": "code",
   "execution_count": 28,
   "metadata": {},
   "outputs": [],
   "source": [
    "def largest_n_elements(a_list:list, n:int):\n",
    "    \"\"\"\n",
    "    Returns a sorted list (from high to low) of n elements our of the list\n",
    "    using ourmax function\n",
    "    \"\"\"\n",
    "    results = []\n",
    "    pass"
   ]
  },
  {
   "cell_type": "code",
   "execution_count": 30,
   "metadata": {},
   "outputs": [],
   "source": [
    "def largest_n_elements(a_list:list, n:int, results=None):\n",
    "    \"\"\"\n",
    "    Returns a sorted list (from high to low) of n elements our of the list\n",
    "    using ourmax function\n",
    "    Recursive solution\n",
    "    \"\"\"\n",
    "    pass\n",
    "    \n",
    "        "
   ]
  },
  {
   "cell_type": "code",
   "execution_count": 31,
   "metadata": {},
   "outputs": [
    {
     "data": {
      "text/plain": [
       "[22, 12, 8, 7, 7]"
      ]
     },
     "execution_count": 31,
     "metadata": {},
     "output_type": "execute_result"
    }
   ],
   "source": [
    "largest_n_elements([1, 5, 8, 22, 12, 7, 2, 7], 5)"
   ]
  },
  {
   "cell_type": "code",
   "execution_count": null,
   "metadata": {},
   "outputs": [],
   "source": []
  }
 ],
 "metadata": {
  "kernelspec": {
   "display_name": "Python 3",
   "language": "python",
   "name": "python3"
  },
  "language_info": {
   "codemirror_mode": {
    "name": "ipython",
    "version": 3
   },
   "file_extension": ".py",
   "mimetype": "text/x-python",
   "name": "python",
   "nbconvert_exporter": "python",
   "pygments_lexer": "ipython3",
   "version": "3.8.1"
  }
 },
 "nbformat": 4,
 "nbformat_minor": 4
}
